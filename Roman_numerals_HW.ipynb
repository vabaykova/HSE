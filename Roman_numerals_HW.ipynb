{
 "cells": [
  {
   "cell_type": "markdown",
   "metadata": {},
   "source": [
    "# I. Roman numerals to decimals\n",
    "Write a function which receives a Roman numeral written out as a string, and returns an integer representing the decimal form of the input number."
   ]
  },
  {
   "cell_type": "code",
   "execution_count": 1,
   "metadata": {
    "collapsed": true
   },
   "outputs": [],
   "source": [
    "mapping = {\"I\" : 1, \n",
    "           \"V\" : 5,\n",
    "           \"X\" : 10,\n",
    "           \"L\" : 50,\n",
    "           \"C\" : 100,\n",
    "           \"D\" : 500,\n",
    "           \"M\" : 1000}"
   ]
  },
  {
   "cell_type": "code",
   "execution_count": 2,
   "metadata": {
    "collapsed": true
   },
   "outputs": [],
   "source": [
    "def roman_to_decimal(rom):\n",
    "    flag=0 #флаг, показывающий первая ли это римская цифра в числе\n",
    "    dec=0  #десятичное число\n",
    "    for i in range(len(rom)):\n",
    "       a = rom[i] #текущая цифра римского числа\n",
    "       if i!=len(rom)-1:\n",
    "            b=rom[i+1]  #следующая за текущей цифра римского числа \n",
    "            if mapping[a]>=mapping[b]:\n",
    "                if flag == 0: #только для первой цифры\n",
    "                    dec = dec + mapping[a] + mapping[b]\n",
    "                    flag = 1\n",
    "                else:         #для всех последующих цифр\n",
    "                    dec = dec + mapping[b]\n",
    "            else:\n",
    "                if flag==0:   #только для первой цифры\n",
    "                    dec = dec - mapping[a] + mapping[b]\n",
    "                else:         #для всех последующих цифр\n",
    "                    dec = dec - 2*mapping[a] + mapping[b]\n",
    "                flag=1\n",
    "    return dec"
   ]
  },
  {
   "cell_type": "code",
   "execution_count": 4,
   "metadata": {},
   "outputs": [
    {
     "name": "stdout",
     "output_type": "stream",
     "text": [
      "949\n",
      "True\n",
      "True\n",
      "True\n",
      "True\n",
      "True\n"
     ]
    }
   ],
   "source": [
    "rom = \"CMXLIX\"\n",
    "print(roman_to_decimal(rom))\n",
    "\n",
    "test_pairs = [(\"IX\", 9), (\"XI\", 11), (\"MCCII\", 1202), (\"MMXVIII\", 2018), (\"XLIX\", 49)]\n",
    "\n",
    "for rom, dec in test_pairs:\n",
    "    converted = roman_to_decimal(rom)\n",
    "    print(converted == dec)"
   ]
  }
 ],
 "metadata": {
  "kernelspec": {
   "display_name": "Python 3",
   "language": "python",
   "name": "python3"
  },
  "language_info": {
   "codemirror_mode": {
    "name": "ipython",
    "version": 3
   },
   "file_extension": ".py",
   "mimetype": "text/x-python",
   "name": "python",
   "nbconvert_exporter": "python",
   "pygments_lexer": "ipython3",
   "version": "3.6.1"
  }
 },
 "nbformat": 4,
 "nbformat_minor": 2
}
