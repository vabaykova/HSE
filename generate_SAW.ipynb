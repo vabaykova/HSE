{
 "cells": [
  {
   "cell_type": "markdown",
   "metadata": {},
   "source": [
    "# Task 0\n",
    "\n",
    "Compute the average end-to-end distance of random walks of a given length. What is the scaling of the end-to-end distance with the length of the walk? What is the scaling of the mean *square* end-to-end distance with the length?"
   ]
  },
  {
   "cell_type": "code",
   "execution_count": 1,
   "metadata": {
    "collapsed": true
   },
   "outputs": [],
   "source": [
    "import math\n",
    "\n",
    "steps = [(1, 0), (-1, 0), (0, 1), (0, -1)]\n",
    "\n",
    "def generate_walks3(path, L, cache):\n",
    "    if L == 0:\n",
    "        cache.append(path)\n",
    "    else:\n",
    "        for dx, dy in steps:\n",
    "            x, y = path[-1]\n",
    "            xy_new = (x + dx, y + dy)\n",
    "            pp = path.copy()\n",
    "            pp.append(xy_new)\n",
    "            generate_walks3(pp, L - 1, cache)\n",
    "            \n",
    "def arr_distance (cache):\n",
    "    length_cache = len(cache)\n",
    "    average = 0\n",
    "    mean_square = 0\n",
    "    for item in cache:\n",
    "        #считаем расстояние между двумя точками\n",
    "        distance = math.sqrt ((item[-1][0]-item[0][0])*(item[-1][0]-item[0][0])+(item[-1][1]-item[0][1])*(item[-1][1]-item[0][1]))\n",
    "        average = average + distance \n",
    "        mean_square = mean_square + distance*distance\n",
    "    average = average/length_cache #вычисление среднего арифметического\n",
    "    mean_square = math.sqrt(mean_square/length_cache) #вычисление среднего квадратичного\n",
    "    \n",
    "    return (average, mean_square)     "
   ]
  },
  {
   "cell_type": "code",
   "execution_count": 8,
   "metadata": {},
   "outputs": [
    {
     "name": "stdout",
     "output_type": "stream",
     "text": [
      "Start point  (0, 0)  given length:  2\n",
      "First of 5 walks [[(0, 0), (1, 0), (2, 0)], [(0, 0), (1, 0), (0, 0)], [(0, 0), (1, 0), (1, 1)], [(0, 0), (1, 0), (1, -1)], [(0, 0), (-1, 0), (0, 0)]]\n",
      "The average end-to-end distance and mean square:  (1.2071067811865477, 1.4142135623730951)\n",
      "Start point  (1, 2)  given length:  2\n",
      "First of 5 walks [[(1, 2), (2, 2), (3, 2)], [(1, 2), (2, 2), (1, 2)], [(1, 2), (2, 2), (2, 3)], [(1, 2), (2, 2), (2, 1)], [(1, 2), (0, 2), (1, 2)]]\n",
      "The average end-to-end distance and mean square:  (1.2071067811865477, 1.4142135623730951)\n",
      "Start point  (3, 2)  given length:  2\n",
      "First of 5 walks [[(3, 2), (4, 2), (5, 2)], [(3, 2), (4, 2), (3, 2)], [(3, 2), (4, 2), (4, 3)], [(3, 2), (4, 2), (4, 1)], [(3, 2), (2, 2), (3, 2)]]\n",
      "The average end-to-end distance and mean square:  (1.2071067811865477, 1.4142135623730951)\n",
      "Start point  (0, 0)  given length:  3\n",
      "First of 5 walks [[(0, 0), (1, 0), (2, 0), (3, 0)], [(0, 0), (1, 0), (2, 0), (1, 0)], [(0, 0), (1, 0), (2, 0), (2, 1)], [(0, 0), (1, 0), (2, 0), (2, -1)], [(0, 0), (1, 0), (0, 0), (1, 0)]]\n",
      "The average end-to-end distance and mean square:  (1.5885254915624203, 1.7320508075688772)\n",
      "Start point  (1, 2)  given length:  3\n",
      "First of 5 walks [[(1, 2), (2, 2), (3, 2), (4, 2)], [(1, 2), (2, 2), (3, 2), (2, 2)], [(1, 2), (2, 2), (3, 2), (3, 3)], [(1, 2), (2, 2), (3, 2), (3, 1)], [(1, 2), (2, 2), (1, 2), (2, 2)]]\n",
      "The average end-to-end distance and mean square:  (1.5885254915624203, 1.7320508075688772)\n",
      "Start point  (3, 2)  given length:  3\n",
      "First of 5 walks [[(3, 2), (4, 2), (5, 2), (6, 2)], [(3, 2), (4, 2), (5, 2), (4, 2)], [(3, 2), (4, 2), (5, 2), (5, 3)], [(3, 2), (4, 2), (5, 2), (5, 1)], [(3, 2), (4, 2), (3, 2), (4, 2)]]\n",
      "The average end-to-end distance and mean square:  (1.5885254915624203, 1.7320508075688772)\n",
      "Start point  (0, 0)  given length:  4\n",
      "First of 5 walks [[(0, 0), (1, 0), (2, 0), (3, 0), (4, 0)], [(0, 0), (1, 0), (2, 0), (3, 0), (2, 0)], [(0, 0), (1, 0), (2, 0), (3, 0), (3, 1)], [(0, 0), (1, 0), (2, 0), (3, 0), (3, -1)], [(0, 0), (1, 0), (2, 0), (1, 0), (2, 0)]]\n",
      "The average end-to-end distance and mean square:  (1.7532798363559174, 2.0)\n",
      "Start point  (1, 2)  given length:  4\n",
      "First of 5 walks [[(1, 2), (2, 2), (3, 2), (4, 2), (5, 2)], [(1, 2), (2, 2), (3, 2), (4, 2), (3, 2)], [(1, 2), (2, 2), (3, 2), (4, 2), (4, 3)], [(1, 2), (2, 2), (3, 2), (4, 2), (4, 1)], [(1, 2), (2, 2), (3, 2), (2, 2), (3, 2)]]\n",
      "The average end-to-end distance and mean square:  (1.7532798363559174, 2.0)\n",
      "Start point  (3, 2)  given length:  4\n",
      "First of 5 walks [[(3, 2), (4, 2), (5, 2), (6, 2), (7, 2)], [(3, 2), (4, 2), (5, 2), (6, 2), (5, 2)], [(3, 2), (4, 2), (5, 2), (6, 2), (6, 3)], [(3, 2), (4, 2), (5, 2), (6, 2), (6, 1)], [(3, 2), (4, 2), (5, 2), (4, 2), (5, 2)]]\n",
      "The average end-to-end distance and mean square:  (1.7532798363559174, 2.0)\n",
      "Start point  (0, 0)  given length:  5\n",
      "First of 5 walks [[(0, 0), (1, 0), (2, 0), (3, 0), (4, 0), (5, 0)], [(0, 0), (1, 0), (2, 0), (3, 0), (4, 0), (3, 0)], [(0, 0), (1, 0), (2, 0), (3, 0), (4, 0), (4, 1)], [(0, 0), (1, 0), (2, 0), (3, 0), (4, 0), (4, -1)], [(0, 0), (1, 0), (2, 0), (3, 0), (2, 0), (3, 0)]]\n",
      "The average end-to-end distance and mean square:  (2.0193315606071582, 2.23606797749979)\n",
      "Start point  (1, 2)  given length:  5\n",
      "First of 5 walks [[(1, 2), (2, 2), (3, 2), (4, 2), (5, 2), (6, 2)], [(1, 2), (2, 2), (3, 2), (4, 2), (5, 2), (4, 2)], [(1, 2), (2, 2), (3, 2), (4, 2), (5, 2), (5, 3)], [(1, 2), (2, 2), (3, 2), (4, 2), (5, 2), (5, 1)], [(1, 2), (2, 2), (3, 2), (4, 2), (3, 2), (4, 2)]]\n",
      "The average end-to-end distance and mean square:  (2.0193315606071582, 2.23606797749979)\n",
      "Start point  (3, 2)  given length:  5\n",
      "First of 5 walks [[(3, 2), (4, 2), (5, 2), (6, 2), (7, 2), (8, 2)], [(3, 2), (4, 2), (5, 2), (6, 2), (7, 2), (6, 2)], [(3, 2), (4, 2), (5, 2), (6, 2), (7, 2), (7, 3)], [(3, 2), (4, 2), (5, 2), (6, 2), (7, 2), (7, 1)], [(3, 2), (4, 2), (5, 2), (6, 2), (5, 2), (6, 2)]]\n",
      "The average end-to-end distance and mean square:  (2.0193315606071582, 2.23606797749979)\n"
     ]
    }
   ],
   "source": [
    "test = [(0, 0), (1, 2), (3, 2)]\n",
    "for L in range(2, 6):\n",
    "    for x, y in test:\n",
    "        cache = []\n",
    "        generate_walks3([(x, y)], L, cache)\n",
    "        print(\"Start point \", (x, y), \" given length: \", L)\n",
    "        print(\"First of 5 walks\", cache[:5])\n",
    "        print(\"The average end-to-end distance and mean square: \", arr_distance(cache))"
   ]
  },
  {
   "cell_type": "markdown",
   "metadata": {},
   "source": [
    "# I. Generate all SAWs on a 2D square lattice¶\n",
    "A self-avoiding walk is a random walk where a lattice site can only be visited once."
   ]
  },
  {
   "cell_type": "code",
   "execution_count": 3,
   "metadata": {
    "collapsed": true
   },
   "outputs": [],
   "source": [
    "steps = [(1, 0), (-1, 0), (0, 1), (0, -1)]\n",
    "\n",
    "def generate_SAWs(path, L, cache):\n",
    "    if L == 0:\n",
    "        cache.append(path)\n",
    "    else:\n",
    "        for dx, dy in steps:\n",
    "            flag =0\n",
    "            x, y = path[-1]\n",
    "            xy_new = (x + dx, y + dy)\n",
    "            pp = path.copy()\n",
    "            for item in pp: #перебор всех точек в пути для сравнения с новой\n",
    "                if item==xy_new:\n",
    "                    flag=1  #флаг равен 1 только в случае, если точку с данными координатами уже посещали ранее \n",
    "            if flag==0:     #если такую точку не посещали, то добавляем к списку \n",
    "                pp.append(xy_new)\n",
    "                generate_SAWs(pp, L - 1, cache)"
   ]
  },
  {
   "cell_type": "markdown",
   "metadata": {},
   "source": [
    "# Task 1¶\n",
    "How many walks of a given length are there? What is the mean end-to-end distance of walks of a given length? What is mean square of the end-to-end distance?"
   ]
  },
  {
   "cell_type": "code",
   "execution_count": 4,
   "metadata": {
    "collapsed": true
   },
   "outputs": [],
   "source": [
    "def arr_distance (cache):\n",
    "    length_cache = len(cache)\n",
    "    average = 0\n",
    "    mean_square = 0\n",
    "    for item in cache:\n",
    "        distance = math.sqrt ((item[-1][0]-item[0][0])*(item[-1][0]-item[0][0])+(item[-1][1]-item[0][1])*(item[-1][1]-item[0][1]))\n",
    "        average = average + distance\n",
    "        mean_square = mean_square + distance*distance\n",
    "    average = average/length_cache\n",
    "    mean_square = math.sqrt(mean_square/length_cache)\n",
    "    return (average, mean_square)"
   ]
  },
  {
   "cell_type": "code",
   "execution_count": 9,
   "metadata": {},
   "outputs": [
    {
     "name": "stdout",
     "output_type": "stream",
     "text": [
      "Start point  (0, 0) , given length:  1 , number of walks of a given length:  4\n",
      "First of 5 walks [[(0, 0), (1, 0)], [(0, 0), (-1, 0)], [(0, 0), (0, 1)], [(0, 0), (0, -1)]]\n",
      "The average end-to-end distance and mean square:  (1.0, 1.0)\n",
      "Start point  (3, 4) , given length:  1 , number of walks of a given length:  4\n",
      "First of 5 walks [[(3, 4), (4, 4)], [(3, 4), (2, 4)], [(3, 4), (3, 5)], [(3, 4), (3, 3)]]\n",
      "The average end-to-end distance and mean square:  (1.0, 1.0)\n",
      "Start point  (7, 2) , given length:  1 , number of walks of a given length:  4\n",
      "First of 5 walks [[(7, 2), (8, 2)], [(7, 2), (6, 2)], [(7, 2), (7, 3)], [(7, 2), (7, 1)]]\n",
      "The average end-to-end distance and mean square:  (1.0, 1.0)\n",
      "Start point  (0, 0) , given length:  2 , number of walks of a given length:  12\n",
      "First of 5 walks [[(0, 0), (1, 0), (2, 0)], [(0, 0), (1, 0), (1, 1)], [(0, 0), (1, 0), (1, -1)], [(0, 0), (-1, 0), (-2, 0)], [(0, 0), (-1, 0), (-1, 1)]]\n",
      "The average end-to-end distance and mean square:  (1.6094757082487303, 1.632993161855452)\n",
      "Start point  (3, 4) , given length:  2 , number of walks of a given length:  12\n",
      "First of 5 walks [[(3, 4), (4, 4), (5, 4)], [(3, 4), (4, 4), (4, 5)], [(3, 4), (4, 4), (4, 3)], [(3, 4), (2, 4), (1, 4)], [(3, 4), (2, 4), (2, 5)]]\n",
      "The average end-to-end distance and mean square:  (1.6094757082487303, 1.632993161855452)\n",
      "Start point  (7, 2) , given length:  2 , number of walks of a given length:  12\n",
      "First of 5 walks [[(7, 2), (8, 2), (9, 2)], [(7, 2), (8, 2), (8, 3)], [(7, 2), (8, 2), (8, 1)], [(7, 2), (6, 2), (5, 2)], [(7, 2), (6, 2), (6, 3)]]\n",
      "The average end-to-end distance and mean square:  (1.6094757082487303, 1.632993161855452)\n",
      "Start point  (0, 0) , given length:  3 , number of walks of a given length:  36\n",
      "First of 5 walks [[(0, 0), (1, 0), (2, 0), (3, 0)], [(0, 0), (1, 0), (2, 0), (2, 1)], [(0, 0), (1, 0), (2, 0), (2, -1)], [(0, 0), (1, 0), (1, 1), (2, 1)], [(0, 0), (1, 0), (1, 1), (0, 1)]]\n",
      "The average end-to-end distance and mean square:  (2.046267540555414, 2.1343747458109497)\n",
      "Start point  (3, 4) , given length:  3 , number of walks of a given length:  36\n",
      "First of 5 walks [[(3, 4), (4, 4), (5, 4), (6, 4)], [(3, 4), (4, 4), (5, 4), (5, 5)], [(3, 4), (4, 4), (5, 4), (5, 3)], [(3, 4), (4, 4), (4, 5), (5, 5)], [(3, 4), (4, 4), (4, 5), (3, 5)]]\n",
      "The average end-to-end distance and mean square:  (2.046267540555414, 2.1343747458109497)\n",
      "Start point  (7, 2) , given length:  3 , number of walks of a given length:  36\n",
      "First of 5 walks [[(7, 2), (8, 2), (9, 2), (10, 2)], [(7, 2), (8, 2), (9, 2), (9, 3)], [(7, 2), (8, 2), (9, 2), (9, 1)], [(7, 2), (8, 2), (8, 3), (9, 3)], [(7, 2), (8, 2), (8, 3), (7, 3)]]\n",
      "The average end-to-end distance and mean square:  (2.046267540555414, 2.1343747458109497)\n",
      "Start point  (0, 0) , given length:  4 , number of walks of a given length:  100\n",
      "First of 5 walks [[(0, 0), (1, 0), (2, 0), (3, 0), (4, 0)], [(0, 0), (1, 0), (2, 0), (3, 0), (3, 1)], [(0, 0), (1, 0), (2, 0), (3, 0), (3, -1)], [(0, 0), (1, 0), (2, 0), (2, 1), (3, 1)], [(0, 0), (1, 0), (2, 0), (2, 1), (1, 1)]]\n",
      "The average end-to-end distance and mean square:  (2.5570255311726613, 2.6532998322843198)\n",
      "Start point  (3, 4) , given length:  4 , number of walks of a given length:  100\n",
      "First of 5 walks [[(3, 4), (4, 4), (5, 4), (6, 4), (7, 4)], [(3, 4), (4, 4), (5, 4), (6, 4), (6, 5)], [(3, 4), (4, 4), (5, 4), (6, 4), (6, 3)], [(3, 4), (4, 4), (5, 4), (5, 5), (6, 5)], [(3, 4), (4, 4), (5, 4), (5, 5), (4, 5)]]\n",
      "The average end-to-end distance and mean square:  (2.5570255311726613, 2.6532998322843198)\n",
      "Start point  (7, 2) , given length:  4 , number of walks of a given length:  100\n",
      "First of 5 walks [[(7, 2), (8, 2), (9, 2), (10, 2), (11, 2)], [(7, 2), (8, 2), (9, 2), (10, 2), (10, 3)], [(7, 2), (8, 2), (9, 2), (10, 2), (10, 1)], [(7, 2), (8, 2), (9, 2), (9, 3), (10, 3)], [(7, 2), (8, 2), (9, 2), (9, 3), (8, 3)]]\n",
      "The average end-to-end distance and mean square:  (2.5570255311726613, 2.6532998322843198)\n",
      "Start point  (0, 0) , given length:  5 , number of walks of a given length:  284\n",
      "First of 5 walks [[(0, 0), (1, 0), (2, 0), (3, 0), (4, 0), (5, 0)], [(0, 0), (1, 0), (2, 0), (3, 0), (4, 0), (4, 1)], [(0, 0), (1, 0), (2, 0), (3, 0), (4, 0), (4, -1)], [(0, 0), (1, 0), (2, 0), (3, 0), (3, 1), (4, 1)], [(0, 0), (1, 0), (2, 0), (3, 0), (3, 1), (2, 1)]]\n",
      "The average end-to-end distance and mean square:  (2.9512053136683383, 3.0924715490510404)\n",
      "Start point  (3, 4) , given length:  5 , number of walks of a given length:  284\n",
      "First of 5 walks [[(3, 4), (4, 4), (5, 4), (6, 4), (7, 4), (8, 4)], [(3, 4), (4, 4), (5, 4), (6, 4), (7, 4), (7, 5)], [(3, 4), (4, 4), (5, 4), (6, 4), (7, 4), (7, 3)], [(3, 4), (4, 4), (5, 4), (6, 4), (6, 5), (7, 5)], [(3, 4), (4, 4), (5, 4), (6, 4), (6, 5), (5, 5)]]\n",
      "The average end-to-end distance and mean square:  (2.9512053136683383, 3.0924715490510404)\n",
      "Start point  (7, 2) , given length:  5 , number of walks of a given length:  284\n",
      "First of 5 walks [[(7, 2), (8, 2), (9, 2), (10, 2), (11, 2), (12, 2)], [(7, 2), (8, 2), (9, 2), (10, 2), (11, 2), (11, 3)], [(7, 2), (8, 2), (9, 2), (10, 2), (11, 2), (11, 1)], [(7, 2), (8, 2), (9, 2), (10, 2), (10, 3), (11, 3)], [(7, 2), (8, 2), (9, 2), (10, 2), (10, 3), (9, 3)]]\n",
      "The average end-to-end distance and mean square:  (2.9512053136683383, 3.0924715490510404)\n"
     ]
    }
   ],
   "source": [
    "test = [(0, 0), (3, 4), (7, 2)]\n",
    "for L in range(1, 6):\n",
    "     for x, y in test:\n",
    "        cache = []\n",
    "        generate_SAWs([(x, y)], L, cache)\n",
    "        print(\"Start point \", (x, y), \", given length: \", L, \", number of walks of a given length: \", len(cache))\n",
    "        print(\"First of 5 walks\", cache[:5])\n",
    "        print(\"The average end-to-end distance and mean square: \", arr_distance(cache))"
   ]
  },
  {
   "cell_type": "code",
   "execution_count": null,
   "metadata": {
    "collapsed": true
   },
   "outputs": [],
   "source": []
  }
 ],
 "metadata": {
  "kernelspec": {
   "display_name": "Python 3",
   "language": "python",
   "name": "python3"
  },
  "language_info": {
   "codemirror_mode": {
    "name": "ipython",
    "version": 3
   },
   "file_extension": ".py",
   "mimetype": "text/x-python",
   "name": "python",
   "nbconvert_exporter": "python",
   "pygments_lexer": "ipython3",
   "version": "3.6.1"
  }
 },
 "nbformat": 4,
 "nbformat_minor": 2
}
